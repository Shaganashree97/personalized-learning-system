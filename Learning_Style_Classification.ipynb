{
  "nbformat": 4,
  "nbformat_minor": 0,
  "metadata": {
    "colab": {
      "provenance": []
    },
    "kernelspec": {
      "name": "python3",
      "display_name": "Python 3"
    },
    "language_info": {
      "name": "python"
    }
  },
  "cells": [
    {
      "cell_type": "code",
      "execution_count": 25,
      "metadata": {
        "id": "qmztbNlHIcF5",
        "colab": {
          "base_uri": "https://localhost:8080/"
        },
        "outputId": "3f56682f-2cb4-4832-8f94-548e38ea92ee"
      },
      "outputs": [
        {
          "output_type": "stream",
          "name": "stdout",
          "text": [
            "   quiz_score  time_spent learning_style\n",
            "0          51          53       auditory\n",
            "1          92          44         visual\n",
            "2          14          20    kinesthetic\n",
            "3          71          52         visual\n",
            "4          60          32       auditory\n"
          ]
        }
      ],
      "source": [
        "import pandas as pd\n",
        "import requests\n",
        "from io import StringIO\n",
        "\n",
        "url = \"https://raw.githubusercontent.com/kavya-prabahar/Personalized-learning-system/main/learning_style_dataset.csv\"\n",
        "\n",
        "response = requests.get(url)\n",
        "if response.status_code == 200:\n",
        "    data = StringIO(response.text)\n",
        "    dataset = pd.read_csv(data)\n",
        "    print(dataset.head())\n",
        "else:\n",
        "    print(\"Failed to download the dataset\")\n"
      ]
    },
    {
      "cell_type": "code",
      "source": [
        "import pandas as pd\n",
        "import numpy as np\n",
        "from sklearn.model_selection import train_test_split, cross_val_score\n",
        "from sklearn.neighbors import KNeighborsClassifier\n",
        "from sklearn.metrics import accuracy_score, confusion_matrix, recall_score, precision_score, f1_score\n",
        "\n",
        "x = dataset[['quiz_score', 'time_spent']]\n",
        "y = dataset['learning_style']\n",
        "\n",
        "X_train, X_test, Y_train, Y_test = train_test_split(x, y, random_state=0, train_size=0.75)\n",
        "\n",
        "clf = KNeighborsClassifier(n_neighbors=3)\n",
        "\n",
        "clf.fit(X_train, Y_train)\n",
        "\n",
        "Y_pred = clf.predict(X_test)\n",
        "\n",
        "cm = confusion_matrix(Y_test, Y_pred)\n",
        "print(\"Confusion Matrix:\")\n",
        "print(cm)\n",
        "\n",
        "ac = accuracy_score(Y_test, Y_pred)\n",
        "print(f\"Accuracy: {ac}\")\n",
        "\n",
        "precision = precision_score(Y_test, Y_pred, average=\"micro\")\n",
        "print(f\"Precision: {precision}\")\n",
        "\n",
        "recall = recall_score(Y_test, Y_pred, average=\"micro\")\n",
        "print(f\"Recall: {recall}\")\n",
        "\n",
        "f1 = f1_score(Y_test, Y_pred, average=\"micro\")\n",
        "print(f\"F1 Score: {f1}\")\n",
        "\n",
        "cv_scores = cross_val_score(clf, x, y, cv=5)\n",
        "print(f\"Cross-Validation Scores: {cv_scores}\")\n",
        "print(f\"Mean Cross-Validation Score: {np.mean(cv_scores)}\")\n"
      ],
      "metadata": {
        "colab": {
          "base_uri": "https://localhost:8080/"
        },
        "id": "pp_MFRD0yZS7",
        "outputId": "a85c0104-4369-4e6c-9dfa-c977f5f408e4"
      },
      "execution_count": 31,
      "outputs": [
        {
          "output_type": "stream",
          "name": "stdout",
          "text": [
            "Confusion Matrix:\n",
            "[[3729    0    0]\n",
            " [   0 4953    0]\n",
            " [   0    0 3818]]\n",
            "Accuracy: 1.0\n",
            "Precision: 1.0\n",
            "Recall: 1.0\n",
            "F1 Score: 1.0\n",
            "Cross-Validation Scores: [0.9999 1.     0.9999 1.     1.    ]\n",
            "Mean Cross-Validation Score: 0.9999600000000001\n"
          ]
        }
      ]
    }
  ]
}