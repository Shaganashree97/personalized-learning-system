{
  "cells": [
    {
      "cell_type": "code",
      "execution_count": 4,
      "metadata": {
        "colab": {
          "base_uri": "https://localhost:8080/"
        },
        "id": "qmztbNlHIcF5",
        "outputId": "3f56682f-2cb4-4832-8f94-548e38ea92ee"
      },
      "outputs": [
        {
          "name": "stdout",
          "output_type": "stream",
          "text": [
            "   quiz_score  time_spent learning_style\n",
            "0          51          53       auditory\n",
            "1          92          44         visual\n",
            "2          14          20    kinesthetic\n",
            "3          71          52         visual\n",
            "4          60          32       auditory\n"
          ]
        }
      ],
      "source": [
        "import pandas as pd\n",
        "import requests\n",
        "from io import StringIO\n",
        "\n",
        "url = \"https://github.com/kavya-prabahar/personalized-learning-system_/blob/main/dataset/learning_style_dataset.csv\"\n",
        "\n",
        "response = requests.get(url)\n",
        "if response.status_code == 200:\n",
        "    data = StringIO(response.text)\n",
        "    dataset = pd.read_csv(data)\n",
        "    print(dataset.head())\n",
        "else:\n",
        "    print(\"Failed to download the dataset\")\n"
      ]
    },
    {
      "cell_type": "code",
      "execution_count": 8,
      "metadata": {
        "colab": {
          "base_uri": "https://localhost:8080/"
        },
        "id": "pp_MFRD0yZS7",
        "outputId": "a85c0104-4369-4e6c-9dfa-c977f5f408e4"
      },
      "outputs": [
        {
          "name": "stdout",
          "output_type": "stream",
          "text": [
            "Confusion Matrix:\n",
            "[[3729    0    0]\n",
            " [   0 4953    0]\n",
            " [   0    0 3818]]\n",
            "Accuracy: 1.0\n",
            "Precision: 1.0\n",
            "Recall: 1.0\n",
            "F1 Score: 1.0\n",
            "Cross-Validation Scores: [0.9999 1.     0.9999 1.     1.    ]\n",
            "Mean Cross-Validation Score: 0.9999600000000001\n"
          ]
        }
      ],
      "source": [
        "import pandas as pd\n",
        "import numpy as np\n",
        "from sklearn.model_selection import train_test_split, cross_val_score\n",
        "from sklearn.neighbors import KNeighborsClassifier\n",
        "from sklearn.metrics import accuracy_score, confusion_matrix, recall_score, precision_score, f1_score\n",
        "\n",
        "x = dataset[['quiz_score', 'time_spent']]\n",
        "y = dataset['learning_style']\n",
        "\n",
        "X_train, X_test, Y_train, Y_test = train_test_split(x, y, random_state=0, train_size=0.75)\n",
        "\n",
        "clf = KNeighborsClassifier(n_neighbors=3)\n",
        "\n",
        "clf.fit(X_train, Y_train)\n",
        "\n",
        "Y_pred = clf.predict(X_test)\n",
        "\n",
        "cm = confusion_matrix(Y_test, Y_pred)\n",
        "print(\"Confusion Matrix:\")\n",
        "print(cm)\n",
        "\n",
        "ac = accuracy_score(Y_test, Y_pred)\n",
        "print(f\"Accuracy: {ac}\")\n",
        "\n",
        "precision = precision_score(Y_test, Y_pred, average=\"micro\")\n",
        "print(f\"Precision: {precision}\")\n",
        "\n",
        "recall = recall_score(Y_test, Y_pred, average=\"micro\")\n",
        "print(f\"Recall: {recall}\")\n",
        "\n",
        "f1 = f1_score(Y_test, Y_pred, average=\"micro\")\n",
        "print(f\"F1 Score: {f1}\")\n",
        "\n",
        "cv_scores = cross_val_score(clf, x, y, cv=5)\n",
        "print(f\"Cross-Validation Scores: {cv_scores}\")\n",
        "print(f\"Mean Cross-Validation Score: {np.mean(cv_scores)}\")\n"
      ]
    },
    {
      "cell_type": "code",
      "execution_count": 9,
      "metadata": {},
      "outputs": [
        {
          "name": "stdout",
          "output_type": "stream",
          "text": [
            "Prediction result: auditory\n"
          ]
        }
      ],
      "source": [
        "time_spent = int(input(\"Time spent by the User: \"))\n",
        "quiz_scores = int(input(\"Scores obtained by the User: \"))\n",
        "\n",
        "input_data = pd.DataFrame([[quiz_scores, time_spent]], columns=[\"quiz_score\", \"time_spent\"])\n",
        "\n",
        "result = clf.predict(input_data)\n",
        "\n",
        "print(\"Prediction result:\", result[0])\n"
      ]
    },
    {
      "cell_type": "code",
      "execution_count": 11,
      "metadata": {},
      "outputs": [
        {
          "name": "stdout",
          "output_type": "stream",
          "text": [
            "                        _id                  topic  \\\n",
            "0  665dc8500ddd15fd4aaf2a04            Percentages   \n",
            "1  665dc8500ddd15fd4aaf2a05      Boats and streams   \n",
            "2  665dc8500ddd15fd4aaf2a06           Age problems   \n",
            "3  665dc8500ddd15fd4aaf2a07  Time, distance, speed   \n",
            "4  665dc8500ddd15fd4aaf2a08          Number series   \n",
            "\n",
            "                                             Article  \\\n",
            "0  https://www.geeksforgeeks.org/percentage-aptit...   \n",
            "1  https://www.bing.com/search?q=boats+and+stream...   \n",
            "2         https://byjus.com/govt-exams/age-problems/   \n",
            "3     https://byjus.com/speed-distance-time-formula/   \n",
            "4  https://www.geeksforgeeks.org/number-series-in...   \n",
            "\n",
            "                        Youtube  \n",
            "0  https://youtu.be/RWdNhJWwzSs  \n",
            "1  https://youtu.be/yp2tgfwT3YU  \n",
            "2  https://youtu.be/b9YMbDH02rM  \n",
            "3  https://youtu.be/dHVK7IeLGT8  \n",
            "4  https://youtu.be/iwpd_RkG-1U  \n"
          ]
        }
      ],
      "source": [
        "import pandas as pd\n",
        "import requests\n",
        "from io import StringIO\n",
        "\n",
        "url = \"https://github.com/kavya-prabahar/personalized-learning-system_/blob/main/dataset/content_database.content_collection_csv.csv\"\n",
        "\n",
        "response = requests.get(url)\n",
        "if response.status_code == 200:\n",
        "    data = StringIO(response.text)\n",
        "    file_path = pd.read_csv(data)\n",
        "    print(file_path.head())\n",
        "else:\n",
        "    print(\"Failed to download the dataset\")\n"
      ]
    },
    {
      "cell_type": "code",
      "execution_count": 18,
      "metadata": {},
      "outputs": [
        {
          "name": "stdout",
          "output_type": "stream",
          "text": [
            "Suggested topics for auditory learners are: Age problems & Time, distance, speed\n",
            "Here is the article link for Age problems: https://byjus.com/govt-exams/age-problems/\n"
          ]
        }
      ],
      "source": [
        "\n",
        "learning_style_topics = {\n",
        "    'visual': ['Percentages', 'Boats and streams'],\n",
        "    'auditory': ['Age problems', 'Time, distance, speed'],\n",
        "    'kinesthetic': ['Number series', 'Pipes and cisterns']\n",
        "}\n",
        "\n",
        "if isinstance(result, (list, np.ndarray)):\n",
        "    result = result[0] \n",
        "\n",
        "suggested_topics = learning_style_topics[result]\n",
        "print(f\"Suggested topics for {result} learners are: {suggested_topics[0]} & {suggested_topics[1]}\")\n",
        "\n",
        "chosen_topic = input(f\"Which topic do you prefer? {suggested_topics[0]} or {suggested_topics[1]}: \")\n",
        "\n",
        "if chosen_topic not in suggested_topics:\n",
        "    print(\"Invalid topic chosen.\")\n",
        "else:\n",
        "    resource_preference = input(\"Do you prefer YouTube or article?: \").lower()\n",
        "\n",
        "    topic_row = df[df['topic'] == chosen_topic].iloc[0]\n",
        "    if resource_preference == 'youtube':\n",
        "        print(f\"Here is the YouTube link for {chosen_topic}: {topic_row['Youtube']}\")\n",
        "    elif resource_preference == 'article':\n",
        "        print(f\"Here is the article link for {chosen_topic}: {topic_row['Article']}\")\n",
        "    else:\n",
        "        print(\"Invalid preference chosen.\")\n"
      ]
    }
  ],
  "metadata": {
    "colab": {
      "provenance": []
    },
    "kernelspec": {
      "display_name": "Python 3",
      "name": "python3"
    },
    "language_info": {
      "codemirror_mode": {
        "name": "ipython",
        "version": 3
      },
      "file_extension": ".py",
      "mimetype": "text/x-python",
      "name": "python",
      "nbconvert_exporter": "python",
      "pygments_lexer": "ipython3",
      "version": "3.12.3"
    }
  },
  "nbformat": 4,
  "nbformat_minor": 0
}
